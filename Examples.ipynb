{
 "cells": [
  {
   "cell_type": "markdown",
   "metadata": {},
   "source": [
    "# Getting set up\n",
    "Add the `celestools` directory to your path."
   ]
  },
  {
   "cell_type": "markdown",
   "metadata": {},
   "source": [
    "# Some definitions\n",
    "Orbital elements:"
   ]
  },
  {
   "cell_type": "markdown",
   "metadata": {},
   "source": [
    "# Units"
   ]
  },
  {
   "cell_type": "code",
   "execution_count": 1,
   "metadata": {
    "collapsed": true
   },
   "outputs": [],
   "source": [
    "#import some libraries\n",
    "import numpy as np\n",
    "import matplotlib.pyplot as plt\n",
    "import celestools as ct"
   ]
  },
  {
   "cell_type": "code",
   "execution_count": 2,
   "metadata": {
    "collapsed": false
   },
   "outputs": [
    {
     "name": "stdout",
     "output_type": "stream",
     "text": [
      "Semi =  [  0.38709893   0.72333199   1.00000011   1.52366231   5.20336301\n",
      "   9.53707032  19.19126393  30.06896348]\n",
      "Ecc =  [ 0.20563069  0.00677323  0.01671022  0.09341233  0.04839266  0.0541506\n",
      "  0.04716771  0.00858587]\n",
      "Inc =  [  7.00487000e+00   3.39471000e+00   5.00000000e-05   1.85061000e+00\n",
      "   1.30530000e+00   2.48446000e+00   7.69860000e-01   1.76917000e+00]\n",
      "Long Peri =  [  77.45645  131.53298  102.94719  336.04084   14.75385   92.43194\n",
      "  170.96424   44.97135]\n",
      "Long Asc Node =  [  48.33167   76.68069  348.73936   49.57854  100.56615  113.71504\n",
      "   74.22988  131.72169]\n",
      "Mean A =  [ 252.25084  181.97973  100.46435  355.45332   34.40438   44.94432\n",
      "  313.23218  304.88003]\n"
     ]
    }
   ],
   "source": [
    "#read in some data to use\n",
    "m, a, e, inc, longp, longa, meana = np.loadtxt('solsys.txt',unpack=True)\n",
    "#these are solar system coordinates (mass of sun = 1)\n",
    "msun = 1.0\n",
    "print('Semi = ',a)\n",
    "print('Ecc = ',e)\n",
    "print('Inc = ',inc)\n",
    "print('Long Peri = ',longp)\n",
    "print('Long Asc Node = ',longa)\n",
    "print('Mean A = ',meana)"
   ]
  },
  {
   "cell_type": "code",
   "execution_count": 3,
   "metadata": {
    "collapsed": false
   },
   "outputs": [
    {
     "name": "stdout",
     "output_type": "stream",
     "text": [
      "omega = [  29.12478   54.85229  114.20783  286.4623   274.1877   338.7169\n",
      "   96.73436  273.24966]\n"
     ]
    }
   ],
   "source": [
    "#argument of pericenter is used in some functions, rather than longitude of pericenter\n",
    "argp = ct.FixAngles(longp-longa)\n",
    "print('omega =',argp)"
   ]
  },
  {
   "cell_type": "code",
   "execution_count": 4,
   "metadata": {
    "collapsed": false,
    "scrolled": true
   },
   "outputs": [
    {
     "name": "stdout",
     "output_type": "stream",
     "text": [
      "x = [[  2.66805586e-01   5.00110848e-01  -9.07166073e-01   1.20259722e+00\n",
      "    3.04588754e+00  -7.23269717e+00  -9.32346187e+00   2.93705194e+01]\n",
      " [ -3.26368323e-01  -5.28113276e-01  -4.28565389e-01  -6.79284755e-01\n",
      "    3.96393571e+00   5.66048472e+00   1.60877584e+01  -5.69514773e+00]\n",
      " [ -5.11487599e-02  -3.60847438e-02  -5.21381890e-07  -4.38124716e-02\n",
      "   -8.47881961e-02   1.88542027e-01   1.79319836e-01  -5.60041395e-01]]\n",
      "v = [[  1.61853317e-02   1.45539084e-02   7.06880207e-03   7.41734831e-03\n",
      "   -6.08079713e-03  -3.73421526e-03  -3.43007069e-03   5.76578766e-04]\n",
      " [  1.91652617e-02   1.38331323e-02  -1.56203813e-02   1.33804959e-02\n",
      "    4.95690429e-03  -4.40583572e-03  -2.15451036e-03   3.09828695e-03]\n",
      " [  7.99724731e-05  -6.51052776e-04  -1.21643616e-08   9.78744925e-05\n",
      "    1.15494908e-04   2.25227371e-04   3.64880911e-05  -7.69813301e-05]]\n"
     ]
    }
   ],
   "source": [
    "#convert osculating elements to cartesian (useful for some N-body codes)\n",
    "xastro, vastro = ct.Osc2X(msun, m, a, e, inc, argp, longa, meana)\n",
    "print('x =',xastro) #these coordinates are in au\n",
    "print('v =',vastro) #au/day"
   ]
  },
  {
   "cell_type": "code",
   "execution_count": 5,
   "metadata": {
    "collapsed": false
   },
   "outputs": [],
   "source": [
    "#convert back\n",
    "a0, e0, inc0, argp0, longa0, meana0 = ct.X2Osc(msun,m,xastro,vastro)"
   ]
  },
  {
   "cell_type": "code",
   "execution_count": 6,
   "metadata": {
    "collapsed": false
   },
   "outputs": [
    {
     "name": "stdout",
     "output_type": "stream",
     "text": [
      "Semi =  [  0.38709893   0.72333199   1.00000011   1.52366231   5.20336301\n",
      "   9.53707032  19.19126393  30.06896348]\n",
      "Ecc =  [ 0.20563069  0.00677323  0.01671022  0.09341233  0.04839266  0.0541506\n",
      "  0.04716771  0.00858587]\n",
      "Inc =  [  7.00487000e+00   3.39471000e+00   5.00022797e-05   1.85061000e+00\n",
      "   1.30530000e+00   2.48446000e+00   7.69860000e-01   1.76917000e+00]\n",
      "Arg Peri =  [  29.12478      54.85229     114.20639587  286.4623      274.1877\n",
      "  338.7169       96.73436     273.24966   ]\n",
      "Long Asc Node =  [  48.33167   76.68069  348.73936   49.57854  100.56615  113.71504\n",
      "   74.22988  131.72169]\n",
      "Mean A =  [ 252.25084  181.97973  100.46435  355.45332   34.40438   44.94432\n",
      "  313.23218  304.88003]\n"
     ]
    }
   ],
   "source": [
    "print('Semi = ',a0)\n",
    "print('Ecc = ',e0)\n",
    "print('Inc = ',inc0)\n",
    "print('Arg Peri = ',argp0)\n",
    "print('Long Asc Node = ',longa0)\n",
    "print('Mean A = ',meana0)"
   ]
  },
  {
   "cell_type": "code",
   "execution_count": 7,
   "metadata": {
    "collapsed": false
   },
   "outputs": [
    {
     "name": "stdout",
     "output_type": "stream",
     "text": [
      "x = [[  2.64862852e-01   4.98168114e-01  -9.09108806e-01   1.20065449e+00\n",
      "    3.04394481e+00  -7.23463991e+00  -9.32540460e+00   2.93685767e+01]\n",
      " [ -3.32169982e-01  -5.33914934e-01  -4.34367048e-01  -6.85086414e-01\n",
      "    3.95813405e+00   5.65468306e+00   1.60819568e+01  -5.70094938e+00]\n",
      " [ -5.11006377e-02  -3.60366216e-02   4.76007938e-05  -4.37643494e-02\n",
      "   -8.47400739e-02   1.88590149e-01   1.79367958e-01  -5.59993272e-01]] \n",
      " xsun = [[ -1.94273370e-03]\n",
      " [ -5.80165879e-03]\n",
      " [  4.81221756e-05]]\n"
     ]
    }
   ],
   "source": [
    "#You can also convert to Barycentric coordinates (Jacobian coords coming soon!)\n",
    "xbary, vbary, xsun, vsun = ct.Astro2Bary(msun,m,xastro,vastro)\n",
    "print('x =',xbary,'\\n xsun =',xsun)"
   ]
  },
  {
   "cell_type": "code",
   "execution_count": 8,
   "metadata": {
    "collapsed": false
   },
   "outputs": [
    {
     "name": "stdout",
     "output_type": "stream",
     "text": [
      "L = [  1.59609773e-06   5.07883717e-07   6.07769060e-05] \n",
      "L = [  1.59609773e-06   5.07883717e-07   6.07769060e-05] \n",
      "L = [  1.59725838e-06   5.07885578e-07   6.08239865e-05]\n"
     ]
    }
   ],
   "source": [
    "#Calculate the total angular momentum vector of a system:\n",
    "L1 = ct.AngularM_Osc(msun,m,a,e,inc,argp,longa,meana) #calculate from astrocentric osculating elements\n",
    "L2 = ct.AngularM_X(msun,m,xastro,vastro) #calculate from astrocentric cartesian \n",
    "L3 = ct.AngularM_Sec(msun,m,a,e,inc,longa) #calculate from osculating elements using secular approximation\n",
    "print('L =',L1,'\\nL =',L2,'\\nL =',L3)"
   ]
  },
  {
   "cell_type": "code",
   "execution_count": 9,
   "metadata": {
    "collapsed": false
   },
   "outputs": [
    {
     "name": "stdout",
     "output_type": "stream",
     "text": [
      "Gladman =  1.03543086038\n",
      "Marchal & Bozis =  [[ 1.03616377]]\n"
     ]
    }
   ],
   "source": [
    "#calculate Hill stability of a two planet system (usually a good proxy for true stability (Barnes & Greenberg 2006))\n",
    "hG = ct.Hill_Gladman(msun,m[4:6],a[4:6],e[4:6]) #using Gladman 1995 approximation\n",
    "hMB = ct.Hill_MB(msun,m[4:6],a[4:6],e[4:6],inc[4:6],argp[4:6],longa[4:6],meana[4:6]) #using Marchal & Bozis 1982 approximation\n",
    "print('Gladman = ',hG)\n",
    "print('Marchal & Bozis = ',hMB) #if these numbers are >1, Hill stability is satisfied"
   ]
  },
  {
   "cell_type": "code",
   "execution_count": 10,
   "metadata": {
    "collapsed": false
   },
   "outputs": [
    {
     "name": "stdout",
     "output_type": "stream",
     "text": [
      "x = [[  1.56632315e-01   3.17303800e-01  -9.94029716e-01   9.40854654e-01\n",
      "    4.10521850e+00  -5.17902495e+00  -4.00976368e+00   2.62663161e+01]\n",
      " [ -3.91904261e-01  -6.54894393e-01  -1.33315453e-01  -1.01195825e+00\n",
      "    2.85373187e+00   7.58710346e+00   1.81574260e+01  -1.43328165e+01]\n",
      " [ -4.68515394e-02  -2.73538475e-02  -2.73950540e-02  -1.79000290e-02\n",
      "    2.83156068e-02   4.58845126e-02   6.88825708e-02   1.63621157e-01]]\n",
      "v = [[  2.12243965e-02   1.80743026e-02   1.99879478e-03   1.11184847e-02\n",
      "   -4.29302112e-03  -4.89870269e-03  -3.92139477e-03   1.49045876e-03]\n",
      " [  1.33552041e-02   8.76879621e-03  -1.70283899e-02   1.05014344e-02\n",
      "    6.56736590e-03  -3.06611082e-03  -1.01300165e-03   2.77758754e-03]\n",
      " [  6.64927420e-04  -1.53189036e-04   5.50727520e-05   4.04326728e-04\n",
      "   -2.77290108e-06   9.03092052e-05  -7.15680395e-05  -3.59349040e-05]]\n"
     ]
    }
   ],
   "source": [
    "#calculate invariable plane coordinates (angles are referred to direction of total angular momentum vector)\n",
    "xastro_inv, vastro_inv = ct.AstroInvPlaneX(msun,m,xastro,vastro)\n",
    "print('x =',xastro_inv)\n",
    "print('v =',vastro_inv)"
   ]
  },
  {
   "cell_type": "code",
   "execution_count": 11,
   "metadata": {
    "collapsed": false
   },
   "outputs": [
    {
     "name": "stdout",
     "output_type": "stream",
     "text": [
      "Semi =  [  0.38709893   0.72333199   1.00000011   1.52366231   5.20336301\n",
      "   9.53707032  19.19126393  30.06896348]\n",
      "Ecc =  [ 0.20563069  0.00677323  0.01671022  0.09341233  0.04839266  0.0541506\n",
      "  0.04716771  0.00858587]\n",
      "Inc =  [ 6.34557827  2.19669009  1.57864288  1.6811425   0.32583028  0.92974146\n",
      "  1.0276031   0.72241497]\n",
      "Arg Peri =  [  41.50297838   76.55876047  175.29435509  339.30445675   57.49555601\n",
      "  328.38527545  218.94728043  210.22977351]\n",
      "Long Asc Node =  [  18.38528989   37.34703834  270.00158874  339.10677446  299.60926499\n",
      "  106.3918025   294.37155423  177.08038975]\n",
      "Mean A =  [ 252.25084  181.97973  100.46435  355.45332   34.40438   44.94432\n",
      "  313.23218  304.88003]\n"
     ]
    }
   ],
   "source": [
    "#Let's convert to osculating elements to notice a few things:\n",
    "#  Quantities based on length (a, e) and angles measured from pericenter (meana) are unchanged\n",
    "#  All other angles are different from the original coordinates\n",
    "a_inv, e_inv, inc_inv, argp_inv, longa_inv, meana_inv = ct.X2Osc(msun,m,xastro_inv,vastro_inv)\n",
    "print('Semi = ',a_inv)\n",
    "print('Ecc = ',e_inv)\n",
    "print('Inc = ',inc_inv)\n",
    "print('Arg Peri = ',argp_inv)\n",
    "print('Long Asc Node = ',longa_inv)\n",
    "print('Mean A = ',meana_inv)"
   ]
  },
  {
   "cell_type": "code",
   "execution_count": 12,
   "metadata": {
    "collapsed": false
   },
   "outputs": [
    {
     "name": "stdout",
     "output_type": "stream",
     "text": [
      "Phi =  4.32712365845\n"
     ]
    }
   ],
   "source": [
    "#calculate mutual inclination between two orbiting bodies\n",
    "Phi = ct.MutualInc(inc[0],inc[1],longa[0],longa[1])\n",
    "print('Phi = ',Phi) #mercury and venus are inclined by ~4 degrees relative to each other"
   ]
  },
  {
   "cell_type": "code",
   "execution_count": 3,
   "metadata": {
    "collapsed": false
   },
   "outputs": [
    {
     "name": "stdout",
     "output_type": "stream",
     "text": [
      "0.048321982913247935  au\n",
      "11.2  days\n"
     ]
    }
   ],
   "source": [
    "#convert between period and semi-major axis\n",
    "apcb =ct.Per2Semi(0.12,1.27*ct.MEARTH/ct.MSUN,11.2)\n",
    "print(apcb,' au') #semi-major axis of Proxima b\n",
    "print(ct.Semi2Per(0.12,1.27*ct.MEARTH/ct.MSUN,apcb),' days') #period of Proxima b"
   ]
  },
  {
   "cell_type": "code",
   "execution_count": 11,
   "metadata": {
    "collapsed": false
   },
   "outputs": [
    {
     "name": "stdout",
     "output_type": "stream",
     "text": [
      "1.49194583712 m/s\n"
     ]
    }
   ],
   "source": [
    "#calculate radial velocity semi-amplitude\n",
    "mp = 1.27*ct.MEARTH/ct.MSUN\n",
    "K = ct.RV_SemiAmp(0.12,mp,apcb,0.001,90.0)\n",
    "print(K, 'm/s')"
   ]
  },
  {
   "cell_type": "code",
   "execution_count": 16,
   "metadata": {
    "collapsed": false
   },
   "outputs": [],
   "source": [
    "E = ct.EnergyTot_X(msun,m,xastro,vastro)"
   ]
  },
  {
   "cell_type": "code",
   "execution_count": 4,
   "metadata": {
    "collapsed": false
   },
   "outputs": [],
   "source": [
    "msun *= ct.MSUN\n",
    "m *= ct.MSUN\n",
    "a *= ct.AU\n",
    "\n"
   ]
  },
  {
   "cell_type": "code",
   "execution_count": 10,
   "metadata": {
    "collapsed": false
   },
   "outputs": [],
   "source": [
    "xastro, vastro = ct.Osc2X(msun, m, a, e, inc, argp, longa, meana,inUnits='mks',outUnits='mks')\n",
    "anew, enew, inew, apnew, lanew, manew = ct.X2Osc(msun,m,xastro,vastro,inUnits='mks')"
   ]
  },
  {
   "cell_type": "code",
   "execution_count": 12,
   "metadata": {
    "collapsed": false
   },
   "outputs": [
    {
     "data": {
      "text/plain": [
       "array([[  1.61853317e-02,   1.45539084e-02,   7.06880207e-03,\n",
       "          7.41734831e-03,  -6.08079713e-03,  -3.73421526e-03,\n",
       "         -3.43007069e-03,   5.76578766e-04],\n",
       "       [  1.91652617e-02,   1.38331323e-02,  -1.56203813e-02,\n",
       "          1.33804959e-02,   4.95690429e-03,  -4.40583572e-03,\n",
       "         -2.15451036e-03,   3.09828695e-03],\n",
       "       [  7.99724731e-05,  -6.51052776e-04,  -1.21643616e-08,\n",
       "          9.78744925e-05,   1.15494908e-04,   2.25227371e-04,\n",
       "          3.64880911e-05,  -7.69813301e-05]])"
      ]
     },
     "execution_count": 12,
     "metadata": {},
     "output_type": "execute_result"
    }
   ],
   "source": []
  },
  {
   "cell_type": "code",
   "execution_count": null,
   "metadata": {
    "collapsed": true
   },
   "outputs": [],
   "source": []
  }
 ],
 "metadata": {
  "anaconda-cloud": {},
  "kernelspec": {
   "display_name": "Python [default]",
   "language": "python",
   "name": "python3"
  },
  "language_info": {
   "codemirror_mode": {
    "name": "ipython",
    "version": 3
   },
   "file_extension": ".py",
   "mimetype": "text/x-python",
   "name": "python",
   "nbconvert_exporter": "python",
   "pygments_lexer": "ipython3",
   "version": "3.5.2"
  }
 },
 "nbformat": 4,
 "nbformat_minor": 1
}
